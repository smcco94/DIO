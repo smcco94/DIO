{
 "cells": [
  {
   "cell_type": "markdown",
   "metadata": {},
   "source": [
    "# Classes e Objetos"
   ]
  },
  {
   "cell_type": "code",
   "execution_count": null,
   "metadata": {},
   "outputs": [],
   "source": [
    "# Classe\n",
    "class Bicicleta:\n",
    "    # Método Inicializador ou Construtor\n",
    "    def __init__(self, cor, modelo, ano, valor) -> None:\n",
    "        print(\"Inicializando a Classe\")\n",
    "        self.cor = cor # Atributos\n",
    "        self.modelo = modelo # Atributos\n",
    "        self.ano = ano # Atributos\n",
    "        self.valor = valor # Atributos\n",
    "    \n",
    "    # Métodos\n",
    "    def buzinar(self) -> str:\n",
    "        print(\"Plim Plim\")\n",
    "\n",
    "    def parar(self) -> str:\n",
    "        print(\"Parando Bicicleta\")\n",
    "        print(\"Bicicleta Parada\")\n",
    "        \n",
    "    def correr(self) -> str:\n",
    "        print(\"Vrummmmm\")\n",
    "\n",
    "    def __str__(self) -> str:\n",
    "        return f\"{self.__class__.__name__}: {', '.join([f'{chave} = {valor}' for chave, valor in self.__dict__.items()])}\"\n",
    "    \n",
    "    # Método Destrutor (Python já possui coletor, raro de usar)\n",
    "    # def __del__(self):\n",
    "    #     print(\"Removendo a instância da classe...\")\n",
    "\n",
    "# Instância\n",
    "b1 = Bicicleta(\"Vermelha\", \"Caloi\", 2022, 600)\n",
    "b1.parar()\n",
    "# b1.correr()\n",
    "# b1.buzinar()\n",
    "# print(b1.cor,b1.ano,b1.cor)\n",
    "# b2 = Bicicleta(\"Preta\", \"Caloi\", 2021, 1600)\n"
   ]
  },
  {
   "cell_type": "markdown",
   "metadata": {},
   "source": [
    "# Herança em POO"
   ]
  },
  {
   "cell_type": "code",
   "execution_count": null,
   "metadata": {},
   "outputs": [],
   "source": [
    "# Capacidade de uma classe filha derivar ou herdar as caracteristicas e comportamentos de uma classe pai\n",
    "\n",
    "# Herança Simples\n",
    "class Veiculo:\n",
    "    def __init__(self, cor, placa, numero_rodas) -> None:\n",
    "        self.cor = cor\n",
    "        self.placa = placa\n",
    "        self.numero_rodas = numero_rodas\n",
    "\n",
    "    def ligar_motor(self) -> str:\n",
    "        print(\"Ligando Motor\")\n",
    "\n",
    "class Caminhao(Veiculo):\n",
    "    def __init__(self, cor, placa, numero_rodas, carregado) -> None:\n",
    "        super().__init__(cor, placa, numero_rodas)\n",
    "        self.carregado = carregado\n",
    "    \n",
    "    def esta_carregado(self) -> str:\n",
    "        print(f\"{'Sim' if self.carregado else 'Não'} estou carregado\")\n",
    "\n",
    "caminhao = Caminhao(\"Preta\", \"ABC4321\", 8, False)\n",
    "caminhao.esta_carregado()"
   ]
  },
  {
   "cell_type": "code",
   "execution_count": null,
   "metadata": {},
   "outputs": [],
   "source": [
    "# Capacidade de uma classe filha derivar ou herdar as caracteristicas e comportamentos de uma classe pai\n",
    "\n",
    "# Herança Múltipla\n",
    "class Animal:\n",
    "    def __init__(self, nro_patas) -> None:\n",
    "        self.nro_patas = nro_patas\n",
    "    \n",
    "    def __str__(self) -> str:\n",
    "        return f\"{self.__class__.__name__}: {', '.join([f'{chave} = {valor}' for chave, valor in self.__dict__.items()])}\"\n",
    "\n",
    "class Ave(Animal):\n",
    "    def __init__(self, cor_bico, **kw) -> None:\n",
    "        super().__init__(**kw)\n",
    "        self.cor_bico = cor_bico\n",
    "\n",
    "class Mamifero(Animal):\n",
    "    def __init__(self, cor_pelo, **kw) -> None:\n",
    "        super().__init__(**kw)\n",
    "        self.cor_pelo = cor_pelo\n",
    "\n",
    "class Gato(Mamifero):\n",
    "    pass\n",
    "\n",
    "class Ornitorrinco(Mamifero, Ave):\n",
    "    pass\n",
    "\n",
    "gato = Gato(nro_patas = 4, cor_pelo = \"Preto\")\n",
    "print(gato)\n",
    "\n",
    "ornitorrinco = Ornitorrinco(cor_pelo = \"Preto\", nro_patas = 2, cor_bico = \"Laranja\")\n",
    "print(ornitorrinco)"
   ]
  },
  {
   "cell_type": "markdown",
   "metadata": {},
   "source": [
    "# Encapsulamento"
   ]
  },
  {
   "cell_type": "code",
   "execution_count": null,
   "metadata": {},
   "outputs": [],
   "source": [
    "# Recurso Público: Pode ser acessado fora da classe.\n",
    "# Recurso Privado: Só pode ser acessado pela classe.\n",
    "\n",
    "class Conta:\n",
    "    def __init__(self, saldo = 0) -> None:\n",
    "        self._saldo = saldo\n",
    "\n",
    "    def depositar(self, valor) -> None:\n",
    "        self._saldo += valor\n",
    "\n",
    "    def sacar(self, valor) -> None:\n",
    "        self._saldo -= valor\n",
    "\n",
    "    def mostrar_saldo(self) -> str:\n",
    "        return f\"Seu saldo é: {self._saldo}\"\n",
    "\n",
    "conta = Conta(100)\n",
    "# conta._saldo += 200 - Não deveria acessar direto (_ antes do arguento indica uma variável privada)\n",
    "conta.depositar(200)\n",
    "conta.sacar(100)\n",
    "print(conta.mostrar_saldo())\n"
   ]
  },
  {
   "cell_type": "code",
   "execution_count": null,
   "metadata": {},
   "outputs": [],
   "source": [
    "# Propriedades\n",
    "\n",
    "class Pessoa:\n",
    "    def __init__(self, nome, ano_nascimento):\n",
    "        self.nome = nome\n",
    "        self._ano_nascimento = ano_nascimento\n",
    "\n",
    "    @property\n",
    "    def idade(self):\n",
    "        _ano_atual = 2022\n",
    "        return _ano_atual - self._ano_nascimento\n",
    "\n",
    "\n",
    "pessoa = Pessoa(\"Guilherme\", 1994)\n",
    "print(f\"Nome: {pessoa.nome} \\tIdade: {pessoa.idade}\")"
   ]
  },
  {
   "cell_type": "markdown",
   "metadata": {},
   "source": [
    "# Polimorfismo"
   ]
  },
  {
   "cell_type": "code",
   "execution_count": null,
   "metadata": {},
   "outputs": [],
   "source": [
    "# Mesmo nome de função para tipos diferentes, dependente de herança\n",
    "# Exemplo de função seria o len(), vendo quantidade de caracteres quando string, quandidade de casas quando lista e etc..\n",
    "\n",
    "class Passaro:\n",
    "    def voar(self):\n",
    "        print(\"Voando...\")\n",
    "\n",
    "\n",
    "class Pardal(Passaro):\n",
    "    def voar(self):\n",
    "        print(\"Pardal pode voar\")\n",
    "\n",
    "\n",
    "class Avestruz(Passaro):\n",
    "    def voar(self):\n",
    "        print(\"Avestruz não pode voar\")\n",
    "\n",
    "\n",
    "# NOTE: exemplo ruim do uso de herança para \"ganhar\" o método voar\n",
    "class Aviao(Passaro):\n",
    "    def voar(self):\n",
    "        print(\"Avião está decolando...\")\n",
    "\n",
    "\n",
    "def plano_voo(obj):\n",
    "    obj.voar()\n",
    "\n",
    "\n",
    "plano_voo(Pardal())\n",
    "plano_voo(Avestruz())\n",
    "plano_voo(Aviao())"
   ]
  },
  {
   "cell_type": "markdown",
   "metadata": {},
   "source": [
    "# Ampliando o Conhecimento"
   ]
  },
  {
   "cell_type": "code",
   "execution_count": null,
   "metadata": {},
   "outputs": [],
   "source": [
    "# Variáveis de Classe e Variáveis de Instância \n",
    "\n",
    "class Estudante:\n",
    "    # Variável de Classe\n",
    "    escola = \"DIO\"\n",
    "\n",
    "    def __init__(self, nome, matricula) -> None:\n",
    "        # Variável de Instância\n",
    "        self.nome = nome\n",
    "        self.matricula = matricula\n",
    "\n",
    "    def __str__(self) -> str:\n",
    "        return f\"{self.nome} - {self.matricula} - {self.escola}\"\n",
    "\n",
    "\n",
    "def mostrar_valores(*objs):\n",
    "    for obj in objs:\n",
    "        print(obj)\n",
    "\n",
    "\n",
    "aluno_1 = Estudante(\"Guilherme\", 1)\n",
    "aluno_2 = Estudante(\"Giovanna\", 2)\n",
    "mostrar_valores(aluno_1, aluno_2)\n",
    "\n",
    "Estudante.escola = \"Python\"\n",
    "aluno_3 = Estudante(\"Chappie\", 3)\n",
    "mostrar_valores(aluno_1, aluno_2, aluno_3)"
   ]
  },
  {
   "cell_type": "code",
   "execution_count": null,
   "metadata": {},
   "outputs": [],
   "source": [
    "# Métodos de Classe e Métodos Estáticos\n",
    "\n",
    "class Pessoa:\n",
    "    def __init__(self, nome, idade):\n",
    "        self.nome = nome\n",
    "        self.idade = idade\n",
    "\n",
    "    @classmethod\n",
    "    def criar_de_data_nascimento(cls, ano, mes, dia, nome):\n",
    "        idade = 2022 - ano\n",
    "        return cls(nome, idade)\n",
    "\n",
    "    @staticmethod # não depende da instancia\n",
    "    def e_maior_idade(idade):\n",
    "        return idade >= 18\n",
    "\n",
    "\n",
    "p = Pessoa.criar_de_data_nascimento(1994, 3, 21, \"Guilherme\")\n",
    "print(p.nome, p.idade)\n",
    "\n",
    "print(Pessoa.e_maior_idade(18))\n",
    "print(Pessoa.e_maior_idade(8))"
   ]
  }
 ],
 "metadata": {
  "kernelspec": {
   "display_name": "Python 3",
   "language": "python",
   "name": "python3"
  },
  "language_info": {
   "codemirror_mode": {
    "name": "ipython",
    "version": 3
   },
   "file_extension": ".py",
   "mimetype": "text/x-python",
   "name": "python",
   "nbconvert_exporter": "python",
   "pygments_lexer": "ipython3",
   "version": "3.10.11"
  }
 },
 "nbformat": 4,
 "nbformat_minor": 2
}
