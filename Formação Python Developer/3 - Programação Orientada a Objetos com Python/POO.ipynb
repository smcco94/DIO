{
 "cells": [
  {
   "cell_type": "markdown",
   "metadata": {},
   "source": [
    "# Classes e Objetos"
   ]
  },
  {
   "cell_type": "code",
   "execution_count": null,
   "metadata": {},
   "outputs": [],
   "source": [
    "# Classe\n",
    "class Bicicleta:\n",
    "    # Método Inicializador ou Construtor\n",
    "    def __init__(self, cor, modelo, ano, valor) -> None:\n",
    "        print(\"Inicializando a Classe\")\n",
    "        self.cor = cor # Atributos\n",
    "        self.modelo = modelo # Atributos\n",
    "        self.ano = ano # Atributos\n",
    "        self.valor = valor # Atributos\n",
    "    \n",
    "    # Métodos\n",
    "    def buzinar(self) -> str:\n",
    "        print(\"Plim Plim\")\n",
    "\n",
    "    def parar(self) -> str:\n",
    "        print(\"Parando Bicicleta\")\n",
    "        print(\"Bicicleta Parada\")\n",
    "        \n",
    "    def correr(self) -> str:\n",
    "        print(\"Vrummmmm\")\n",
    "\n",
    "    def __str__(self) -> str:\n",
    "        return f\"{self.__class__.__name__}: {', '.join([f'{chave} = {valor}' for chave, valor in self.__dict__.items()])}\"\n",
    "    \n",
    "    # Método Destrutor (Python já possui coletor, raro de usar)\n",
    "    # def __del__(self):\n",
    "    #     print(\"Removendo a instância da classe...\")\n",
    "\n",
    "# Instância\n",
    "b1 = Bicicleta(\"Vermelha\", \"Caloi\", 2022, 600)\n",
    "b1.parar()\n",
    "# b1.correr()\n",
    "# b1.buzinar()\n",
    "# print(b1.cor,b1.ano,b1.cor)\n",
    "# b2 = Bicicleta(\"Preta\", \"Caloi\", 2021, 1600)\n"
   ]
  },
  {
   "cell_type": "markdown",
   "metadata": {},
   "source": [
    "# Herança em POO"
   ]
  },
  {
   "cell_type": "code",
   "execution_count": null,
   "metadata": {},
   "outputs": [],
   "source": [
    "# Capacidade de uma classe filha derivar ou herdar as caracteristicas e comportamentos de uma classe pai\n",
    "\n",
    "# Herança Simples\n",
    "class Veiculo:\n",
    "    def __init__(self, cor, placa, numero_rodas) -> None:\n",
    "        self.cor = cor\n",
    "        self.placa = placa\n",
    "        self.numero_rodas = numero_rodas\n",
    "\n",
    "    def ligar_motor(self) -> str:\n",
    "        print(\"Ligando Motor\")\n",
    "\n",
    "class Caminhao(Veiculo):\n",
    "    def __init__(self, cor, placa, numero_rodas, carregado) -> None:\n",
    "        super().__init__(cor, placa, numero_rodas)\n",
    "        self.carregado = carregado\n",
    "    \n",
    "    def esta_carregado(self) -> str:\n",
    "        print(f\"{'Sim' if self.carregado else 'Não'} estou carregado\")\n",
    "\n",
    "caminhao = Caminhao(\"Preta\", \"ABC4321\", 8, False)\n",
    "caminhao.esta_carregado()"
   ]
  },
  {
   "cell_type": "code",
   "execution_count": null,
   "metadata": {},
   "outputs": [],
   "source": [
    "# Capacidade de uma classe filha derivar ou herdar as caracteristicas e comportamentos de uma classe pai\n",
    "\n",
    "# Herança Múltipla\n",
    "class Animal:\n",
    "    def __init__(self, nro_patas) -> None:\n",
    "        self.nro_patas = nro_patas\n",
    "    \n",
    "    def __str__(self) -> str:\n",
    "        return f\"{self.__class__.__name__}: {', '.join([f'{chave} = {valor}' for chave, valor in self.__dict__.items()])}\"\n",
    "\n",
    "class Ave(Animal):\n",
    "    def __init__(self, cor_bico, **kw) -> None:\n",
    "        super().__init__(**kw)\n",
    "        self.cor_bico = cor_bico\n",
    "\n",
    "class Mamifero(Animal):\n",
    "    def __init__(self, cor_pelo, **kw) -> None:\n",
    "        super().__init__(**kw)\n",
    "        self.cor_pelo = cor_pelo\n",
    "\n",
    "class Gato(Mamifero):\n",
    "    pass\n",
    "\n",
    "class Ornitorrinco(Mamifero, Ave):\n",
    "    pass\n",
    "\n",
    "gato = Gato(nro_patas = 4, cor_pelo = \"Preto\")\n",
    "print(gato)\n",
    "\n",
    "ornitorrinco = Ornitorrinco(cor_pelo = \"Preto\", nro_patas = 2, cor_bico = \"Laranja\")\n",
    "print(ornitorrinco)"
   ]
  },
  {
   "cell_type": "markdown",
   "metadata": {},
   "source": [
    "# Encapsulamento"
   ]
  },
  {
   "cell_type": "code",
   "execution_count": null,
   "metadata": {},
   "outputs": [],
   "source": []
  }
 ],
 "metadata": {
  "kernelspec": {
   "display_name": "Python 3",
   "language": "python",
   "name": "python3"
  },
  "language_info": {
   "codemirror_mode": {
    "name": "ipython",
    "version": 3
   },
   "file_extension": ".py",
   "mimetype": "text/x-python",
   "name": "python",
   "nbconvert_exporter": "python",
   "pygments_lexer": "ipython3",
   "version": "3.10.11"
  }
 },
 "nbformat": 4,
 "nbformat_minor": 2
}
