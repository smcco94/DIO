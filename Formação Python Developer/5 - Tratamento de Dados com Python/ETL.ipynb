{
 "cells": [
  {
   "cell_type": "markdown",
   "metadata": {},
   "source": [
    "# Fundamentos de ETL\n",
    "### Extract, Transform, Load\n",
    "- Extrair -> Importar dados de diversos tipos e formatos, como: DB, CSV, Sharepoint e etc....\n",
    "- Transformar -> [[Colunas,Linhas], [Tipos de dados], [Mesclar, Acrescentar], [Listas, Tabelas]] *Padronização, Limpeza e Qualidade\n",
    "- Carregamento -> Para o modelo de dados"
   ]
  },
  {
   "cell_type": "code",
   "execution_count": null,
   "metadata": {},
   "outputs": [],
   "source": [
    "# Pandas \n",
    "\n",
    "import pandas as pd\n",
    "import matplotlib.pyplot as plt\n",
    " \n",
    "importado = [{\"Nome\": \"Sergio\", \"Idade\": 28},{\"Nome\": \"Camila\", \"Idade\": 31},{\"Nome\": \"Pablo\", \"Idade\": 12}]\n",
    "df = pd.DataFrame(importado)\n",
    "df.info() # Retorna o formato em que se ecncontra o dataframe assim como volume da informação\n",
    "# df.isnull().sum() -> Entrega contagem dos valores nulos\n",
    "# df[\"Idade\"].unique() -> Verifica valores unicos\n",
    "# df.plot(kind=\"bar\")\n",
    "# df.describe() -> Muito importante, mostra dados estatisticos dos dados"
   ]
  }
 ],
 "metadata": {
  "kernelspec": {
   "display_name": "Python 3",
   "language": "python",
   "name": "python3"
  },
  "language_info": {
   "codemirror_mode": {
    "name": "ipython",
    "version": 3
   },
   "file_extension": ".py",
   "mimetype": "text/x-python",
   "name": "python",
   "nbconvert_exporter": "python",
   "pygments_lexer": "ipython3",
   "version": "3.10.11"
  }
 },
 "nbformat": 4,
 "nbformat_minor": 2
}
