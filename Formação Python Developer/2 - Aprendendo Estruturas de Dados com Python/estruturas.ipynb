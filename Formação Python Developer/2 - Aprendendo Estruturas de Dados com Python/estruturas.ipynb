{
 "cells": [
  {
   "cell_type": "markdown",
   "metadata": {},
   "source": [
    "# Listas"
   ]
  },
  {
   "cell_type": "code",
   "execution_count": null,
   "metadata": {},
   "outputs": [],
   "source": [
    "# Exemplo de lista\n",
    "vazia = []\n",
    "Frutas = ['Maça','Pera']\n",
    "letras = list('Python') # pede elemento iteravel\n",
    "numeros = list(range(1,11))\n",
    "carro = [\"Ferrari\",\"F8\",4200000,2020,2900,\"São Paulo\", True]"
   ]
  },
  {
   "cell_type": "code",
   "execution_count": null,
   "metadata": {},
   "outputs": [],
   "source": [
    "# Acesso\n",
    "# Listas começam no zero\n",
    "lista = [\"Uva\",\"Pera\"]\n",
    "lista[0] # Uva\n",
    "lista[1] # Pera\n",
    "lista[-1] # Índice negativo começa de 1 e não de zero como o padrão"
   ]
  },
  {
   "cell_type": "code",
   "execution_count": null,
   "metadata": {},
   "outputs": [],
   "source": [
    "# Matriz\n",
    "matriz = [\n",
    "    [1,2,3],\n",
    "    [4,5,6],\n",
    "    [7,8,9]\n",
    "]\n",
    "\n",
    "matriz[0]\n",
    "matriz[0][1] # Acessa primeira linha, coluna 2"
   ]
  },
  {
   "cell_type": "code",
   "execution_count": null,
   "metadata": {},
   "outputs": [],
   "source": [
    "carros = [\"Gol\",\"Palio\",\"Vectra\"]\n",
    "for i in carros:\n",
    "    print(i)"
   ]
  },
  {
   "cell_type": "code",
   "execution_count": null,
   "metadata": {},
   "outputs": [],
   "source": [
    "# Compreession\n",
    "numeros = [1,2,3,4,5,6,7,8,9]\n",
    "pares = [numero for numero in numeros if numero % 2 == 0]\n",
    "expoente = [numero ** 2 for numero in numeros]\n",
    "expoente"
   ]
  },
  {
   "cell_type": "code",
   "execution_count": null,
   "metadata": {},
   "outputs": [],
   "source": [
    "# Métodos\n",
    "[].append(\"Peixe\") # Adiciona ao final da lista\n",
    "[].clear() # Limpa toda a lista\n",
    "[].copy() # copia a lista\n",
    "[].count(\"Peixe\") # Conta aparições de itens em uma lista\n",
    "[].extend([\"teste1\",\"teste2\"]) # Mescla listas\n",
    "[].index(\"teste\") # indica a posição do item\n",
    "[].pop() # Remove o ultimo item da lista ou o item com indice indicado ex -> [].pop(1)\n",
    "[].remove(\"Frango\") # Remove frango da lista\n",
    "[].reverse() # Inverte a posição dos itens\n",
    "[].sort() # alterna aleatoriamente a posição dos itens\n",
    "[].len() # conta a quantidade de itens da lista"
   ]
  },
  {
   "cell_type": "markdown",
   "metadata": {},
   "source": [
    "# Tuplas"
   ]
  },
  {
   "cell_type": "code",
   "execution_count": null,
   "metadata": {},
   "outputs": [],
   "source": [
    "# Tuplas sao imutáveis !! tupla != lista\n",
    "tupla = (1,2,3,4)\n",
    "tupla_classe = tuple([1,2,3,4])\n",
    "tupla_classe"
   ]
  },
  {
   "cell_type": "markdown",
   "metadata": {},
   "source": [
    "# Conjuntos"
   ]
  },
  {
   "cell_type": "code",
   "execution_count": null,
   "metadata": {},
   "outputs": [],
   "source": [
    "# Iteraveis Distintos / não suporta indexação\n",
    "lista = set([1,1,1,2,3,4,5,5,5])\n",
    "set(\"abacaxi\") # case sensitive\n",
    "# Para acessar valores do set, teria que converter em lista ou navegar atravez do for\n",
    "numeros_set = {1,2,3,4,4,4,4,5}\n",
    "numeros_list = list(numeros)\n",
    "numeros[2]\n",
    "for indice, numero in enumerate(numeros_set):\n",
    "    print(f\"{indice: {numero}}\")\n",
    "# ou\n",
    "for i in numeros_set:\n",
    "    print(i)"
   ]
  },
  {
   "cell_type": "code",
   "execution_count": null,
   "metadata": {},
   "outputs": [],
   "source": [
    "# Unio\n",
    "conjunto_a = {1,2}\n",
    "conjunto_b = {3,4}\n",
    "conjunto_a.union(conjunto_b)"
   ]
  },
  {
   "cell_type": "code",
   "execution_count": null,
   "metadata": {},
   "outputs": [],
   "source": [
    "# intersection\n",
    "conjunto_a = {1,2,3}\n",
    "conjunto_b = {2,3,4}\n",
    "\n",
    "conjunto_a.intersection(conjunto_b)"
   ]
  },
  {
   "cell_type": "code",
   "execution_count": null,
   "metadata": {},
   "outputs": [],
   "source": [
    "# difference\n",
    "conjunto_a = {1,2,3}\n",
    "conjunto_b = {2,3,4}\n",
    "\n",
    "print(conjunto_a.difference(conjunto_b)) # o que tem no a diferente do b\n",
    "print(conjunto_b.difference(conjunto_a)) # o que tem no b diferente do a"
   ]
  },
  {
   "cell_type": "code",
   "execution_count": null,
   "metadata": {},
   "outputs": [],
   "source": [
    "# simmetric_difference\n",
    "conjunto_a = {1,2,3}\n",
    "conjunto_b = {2,3,4}\n",
    "\n",
    "print(conjunto_a.symmetric_difference(conjunto_b)) # o que tem no a diferente do b\n",
    "print(conjunto_b.symmetric_difference(conjunto_a)) # o que tem no b diferente do a"
   ]
  },
  {
   "cell_type": "code",
   "execution_count": null,
   "metadata": {},
   "outputs": [],
   "source": [
    "# issubset\n",
    "conjunto_a = {1,2,3}\n",
    "conjunto_b = {1,2,3,4,5,6}\n",
    "\n",
    "print(conjunto_a.issubset(conjunto_b)) # verifica se é um subconjunto de b\n",
    "print(conjunto_b.issubset(conjunto_a)) # verifica se é um subconjunto de a"
   ]
  },
  {
   "cell_type": "code",
   "execution_count": null,
   "metadata": {},
   "outputs": [],
   "source": [
    "# issuperset != issubset\n",
    "conjunto_a = {1,2,3}\n",
    "conjunto_b = {1,2,3,4,5,6}\n",
    "\n",
    "print(conjunto_a.issuperset(conjunto_b)) # verifica se todos elementos de b estão em a\n",
    "print(conjunto_b.issuperset(conjunto_a)) # verifica se todos elementos de a estão em b"
   ]
  },
  {
   "cell_type": "code",
   "execution_count": null,
   "metadata": {},
   "outputs": [],
   "source": [
    "# isdisjoint\n",
    "conjunto_a = {1,2,3}\n",
    "conjunto_b = {4,5,6}\n",
    "conjunto_c = {1}\n",
    "\n",
    "print(conjunto_a.isdisjoint(conjunto_b)) # verifica se nao existe intersecção de a com b\n",
    "print(conjunto_b.isdisjoint(conjunto_a)) # verifica se nao existe intersecção de b com a\n",
    "print(conjunto_a.isdisjoint(conjunto_c)) # verifica se nao existe intersecção de a com c"
   ]
  },
  {
   "cell_type": "code",
   "execution_count": null,
   "metadata": {},
   "outputs": [],
   "source": [
    "# add\n",
    "set_1 = set([1,2,3,4])\n",
    "set_1.add(2) # adiciona caso nao tenha no set, se tiver não faz nada\n",
    "set_1"
   ]
  },
  {
   "cell_type": "markdown",
   "metadata": {},
   "source": [
    "# Dicionários"
   ]
  },
  {
   "cell_type": "code",
   "execution_count": null,
   "metadata": {},
   "outputs": [],
   "source": [
    "# Dict\n",
    "# pessoa = {\"nome\": \"Guilherme\", \"Idade\": 28}\n",
    "pessoa = dict(nome= \"Guilherme\", idade = 28)\n",
    "pessoa[\"telefone\"] = \"31973395901\"\n",
    "# pessoa[\"telefone\"] # Pega valor telefone\n",
    "pessoa.get(\"nome\") # pega valor nome com método get"
   ]
  },
  {
   "cell_type": "code",
   "execution_count": null,
   "metadata": {},
   "outputs": [],
   "source": [
    "# Multiplos níveis\n",
    "contato = {\n",
    "    \"sergiomcastro94@gmail.com\": {\"nome\": \"Sergio\", \"idade\": 28},\n",
    "    \"guilherme@gmail.com\": {\"nome\": \"Guilherme\", \"idade\": 28}\n",
    "}\n",
    "# contato[\"sergiomcastro94@gmail.com\"][\"idade\"]\n",
    "\n",
    "# for chave in contato:\n",
    "#     print(chave, contato[chave])\n",
    "\n",
    "# for chave, valor in contato.items():\n",
    "#     print(chave, valor)\n",
    "\n",
    "# contato.get(\"sergiomcastro94@gmail.com\").get(\"idade\")"
   ]
  },
  {
   "cell_type": "code",
   "execution_count": null,
   "metadata": {},
   "outputs": [],
   "source": [
    "{}.clear # limpa os valores do dicionario\n",
    "{}.copy # tira copia do dicionário\n",
    "{}.fromkeys(['Nome','Idade']) # cria chaves no dicionario com valor none ou {}.fromkeys(['Nome','Idade'], \"Vazio\") criando chaves no dicionario com valor \"Vazio\"\n",
    "{}.get(\"nome\") # pega valor nome com método get, caso nao ache a chave, {}.get(\"nome\",) -> segundo argumento indica o que retornar, nesse caso none\n",
    "{}.items() # retorna tuplas do dicionario, muito pratico para o for\n",
    "{}.keys() # retorna apenas as chaves do dicionario\n",
    "{}.values() # retorna apenas valores do dicionario\n",
    "{}.pop(\"Chave\", \"Valor caso nao encontre\") # remove chave do dict\n",
    "{}.popitem() # nao informa nada, vai removendo em ordem ate acabar e dar erro\n",
    "{}.setdefault() # Insere valor caso nao exista\n",
    "{}.update() # Atualiza a chave caso exista, ou caso nao exista, cria nova chave\n",
    "\"guilherme@gmail.com\" in contato # verifica se o email existe no dicionario\n",
    "\"idade\" in contato[\"guilherme@gmail.com\"] # verifica se idade existe dentro da chave email\n",
    "del contato[\"guilherme@gmail.com\"] # deleta chave primaria do dicionario\n",
    "del contato[\"guilherme@gmail.com\"][\"idade\"] # deleta idade dentro de guilherme"
   ]
  },
  {
   "cell_type": "markdown",
   "metadata": {},
   "source": [
    "# Funções\n"
   ]
  },
  {
   "cell_type": "code",
   "execution_count": null,
   "metadata": {},
   "outputs": [],
   "source": [
    "def marca_modelo(marca,modelo,dono=\"Sem Dono\"): # No caso se nao tiver passado o dono o código entendo o Sem Dono como valor opcional\n",
    "    print(f\"Marca: {marca}, Modelo: {modelo}, Dono: {dono}\")    \n",
    "\n",
    "marca_modelo(\"Fiat\", \"Palio\") # forma tradicional, deve-se respeitar posicionamento\n",
    "marca_modelo(modelo=\"Palio\", marca=\"Fiat\", dono=\"Sandro\") # forma independe da posicao de preenchimento pois o nome é indicado\n",
    "marca_modelo(**{\"marca\": \"Fiat\", \"modelo\":\"Palio\", \"dono\":\"Paulo\"}) # **kwargs indica que sera passado uma dict *args será uma tupla"
   ]
  },
  {
   "cell_type": "code",
   "execution_count": null,
   "metadata": {},
   "outputs": [],
   "source": [
    "def exibir_poema(data_extenso, *args, **kwargs):\n",
    "    texto = \"\\n\".join(args)\n",
    "    meta_dados = \"\\n\".join([f\"{chave.title()}: {valor}\" for chave, valor in kwargs.items()])\n",
    "    mensagem = f\"{data_extenso}\\n\\n{texto}\\n\\n{meta_dados}\"\n",
    "    print(mensagem)\n",
    "\n",
    "\n",
    "exibir_poema(\n",
    "    \"Zen of Python\", # primeiro item sempre pega no data_extenso\n",
    "    \"Beautiful is better than ugly.\",\n",
    "    \"Explicit is better than implicit.\",\n",
    "    \"Simple is better than complex.\",\n",
    "    \"Complex is better than complicated.\",\n",
    "    \"Flat is better than nested.\",\n",
    "    \"Sparse is better than dense.\",\n",
    "    \"Readability counts.\",\n",
    "    \"Special cases aren't special enough to break the rules.\",\n",
    "    \"Although practicality beats purity.\",\n",
    "    \"Errors should never pass silently.\",\n",
    "    \"Unless explicitly silenced.\",\n",
    "    \"In the face of ambiguity, refuse the temptation to guess.\",\n",
    "    \"There should be one-- and preferably only one --obvious way to do it.\",\n",
    "    \"Although that way may not be obvious at first unless you're Dutch.\",\n",
    "    \"Now is better than never.\",\n",
    "    \"Although never is often better than *right* now.\",\n",
    "    \"If the implementation is hard to explain, it's a bad idea.\",\n",
    "    \"If the implementation is easy to explain, it may be a good idea.\",\n",
    "    \"Namespaces are one honking great idea -- let's do more of those!\", # enquanto for separado so por virgula se ente como tupla, logo, *args\n",
    "    autor=\"Tim Peters\", # ao começar o conceito chave valor ele entende que começou **kwargs\n",
    "    ano=1999,\n",
    ")"
   ]
  },
  {
   "cell_type": "code",
   "execution_count": 105,
   "metadata": {},
   "outputs": [
    {
     "name": "stdout",
     "output_type": "stream",
     "text": [
      "O resultado da operação 10 + 10 = 20\n"
     ]
    }
   ],
   "source": [
    "# Utilizar funcao chamando de outra\n",
    "def somar(a, b):\n",
    "    return a + b\n",
    "\n",
    "def exibir_resultado(a, b, funcao):\n",
    "    resultado = funcao(a, b)\n",
    "    print(f\"O resultado da operação {a} + {b} = {resultado}\")\n",
    "\n",
    "exibir_resultado(10, 10, somar)  # O resultado da operação 10 + 10 = 20"
   ]
  },
  {
   "cell_type": "code",
   "execution_count": 106,
   "metadata": {},
   "outputs": [
    {
     "name": "stdout",
     "output_type": "stream",
     "text": [
      "3\n"
     ]
    }
   ],
   "source": [
    "# Instanciando uma função\n",
    "op = somar\n",
    "print(op(1,2))"
   ]
  }
 ],
 "metadata": {
  "kernelspec": {
   "display_name": "Python 3",
   "language": "python",
   "name": "python3"
  },
  "language_info": {
   "codemirror_mode": {
    "name": "ipython",
    "version": 3
   },
   "file_extension": ".py",
   "mimetype": "text/x-python",
   "name": "python",
   "nbconvert_exporter": "python",
   "pygments_lexer": "ipython3",
   "version": "3.10.11"
  },
  "orig_nbformat": 4
 },
 "nbformat": 4,
 "nbformat_minor": 2
}
