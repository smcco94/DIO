{
 "cells": [
  {
   "cell_type": "markdown",
   "metadata": {},
   "source": [
    "# Desafio 1"
   ]
  },
  {
   "cell_type": "code",
   "execution_count": 2,
   "metadata": {},
   "outputs": [
    {
     "name": "stdout",
     "output_type": "stream",
     "text": [
      "Mais de 8000!\n",
      "Inseto!\n"
     ]
    }
   ],
   "source": [
    "''' \n",
    "IMPORTANTE: As funções \"input\" e \"print\" são acessíveis nativamente em Python, onde:  \n",
    " - \"input\": função que permite a leitura de uma entrada do usuário. Lembre-se que, em alguns \n",
    "   casos, é necessário converter/tratar os dados de entrada; \n",
    " - \"print\": função que imprime um texto enviado em seu parâmetro, a qual é essencial para a \n",
    "   impressão dos dados de saída. \n",
    "'''\n",
    "C = int(input()) \n",
    "for i in range (C): \n",
    "    ''' \n",
    "    TODO Leia as as entradas e crie as condições necessárias para verificar se é maior ou\n",
    "    menor do que 8000 e imprima \"Inseto!\" ou \"Maior que 8000!\" para cada caso.\n",
    "    '''\n",
    "    nv_energia = float(input())\n",
    "    if nv_energia > 8000:\n",
    "      print(\"Mais de 8000!\")\n",
    "    else: print(\"Inseto!\")"
   ]
  },
  {
   "cell_type": "markdown",
   "metadata": {},
   "source": [
    "# Desafio 2"
   ]
  },
  {
   "cell_type": "code",
   "execution_count": 16,
   "metadata": {},
   "outputs": [
    {
     "name": "stdout",
     "output_type": "stream",
     "text": [
      "4\n",
      "4\n",
      "574\n"
     ]
    }
   ],
   "source": [
    "T = int(input())\n",
    "\n",
    "for i in range(T):\n",
    "    N = int(input())\n",
    "    K = int(input())\n",
    "    calc = (N % K) + (N / K)\n",
    "\n",
    "    print(int(calc))"
   ]
  }
 ],
 "metadata": {
  "kernelspec": {
   "display_name": "Python 3",
   "language": "python",
   "name": "python3"
  },
  "language_info": {
   "codemirror_mode": {
    "name": "ipython",
    "version": 3
   },
   "file_extension": ".py",
   "mimetype": "text/x-python",
   "name": "python",
   "nbconvert_exporter": "python",
   "pygments_lexer": "ipython3",
   "version": "3.10.11"
  },
  "orig_nbformat": 4
 },
 "nbformat": 4,
 "nbformat_minor": 2
}
