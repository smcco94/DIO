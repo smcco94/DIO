{
 "cells": [
  {
   "cell_type": "markdown",
   "metadata": {},
   "source": [
    "# Estruturas Condicionais"
   ]
  },
  {
   "cell_type": "code",
   "execution_count": 11,
   "metadata": {},
   "outputs": [
    {
     "name": "stdout",
     "output_type": "stream",
     "text": [
      "Saldo insuficiente\n"
     ]
    }
   ],
   "source": [
    "saldo = 1000\n",
    "saque = float(input(\"Valor do saque: \"))\n",
    "if saque > saldo:\n",
    "    print(\"Saldo insuficiente\")\n",
    "elif saque == saldo: print(\"Saque total\") \n",
    "else: print (\"Saque parcial\")"
   ]
  },
  {
   "cell_type": "markdown",
   "metadata": {},
   "source": [
    "# Estruturas de Repetição"
   ]
  },
  {
   "cell_type": "code",
   "execution_count": null,
   "metadata": {},
   "outputs": [],
   "source": [
    "# for\n",
    "lista = [\"Maça\", \"Pera\"]\n",
    "for i in range(0 ,len(lista)):\n",
    "    print(lista[i])"
   ]
  },
  {
   "cell_type": "code",
   "execution_count": 24,
   "metadata": {},
   "outputs": [
    {
     "name": "stdout",
     "output_type": "stream",
     "text": [
      "e\n",
      "o\n"
     ]
    }
   ],
   "source": [
    "# for\n",
    "texto = str(input(\"Informe um texto: \"))\n",
    "vog = \"AEIOU\"\n",
    "\n",
    "for letra in texto:\n",
    "    if letra.upper() in vog:\n",
    "        #print(f\"{letra}\\n\", end=\"\") #end indica para nao colocar nova linha no final, obrigando uso do /n para saltar linha\n",
    "        print(f\"{letra}\")"
   ]
  },
  {
   "cell_type": "code",
   "execution_count": null,
   "metadata": {},
   "outputs": [],
   "source": [
    "# while\n",
    "cont = int(input(\"Insira o total de voltas: \"))\n",
    "t = 0\n",
    "while t < cont:\n",
    "    print(t+1)\n",
    "    t += 1\n"
   ]
  },
  {
   "cell_type": "code",
   "execution_count": 25,
   "metadata": {},
   "outputs": [
    {
     "name": "stdout",
     "output_type": "stream",
     "text": [
      "É dentro!\n",
      "É dentro!\n",
      "É dentro!\n",
      "É dentro!\n",
      "É fora!\n"
     ]
    }
   ],
   "source": [
    "# while com break\n",
    "while True:\n",
    "    x = int(input(\"[1] Continuar e [0] Sair\"))\n",
    "    if x != 0:\n",
    "        print(\"É dentro!\")\n",
    "    else: \n",
    "        print(\"É fora!\") \n",
    "        break\n"
   ]
  }
 ],
 "metadata": {
  "kernelspec": {
   "display_name": "Python 3",
   "language": "python",
   "name": "python3"
  },
  "language_info": {
   "codemirror_mode": {
    "name": "ipython",
    "version": 3
   },
   "file_extension": ".py",
   "mimetype": "text/x-python",
   "name": "python",
   "nbconvert_exporter": "python",
   "pygments_lexer": "ipython3",
   "version": "3.10.11"
  },
  "orig_nbformat": 4
 },
 "nbformat": 4,
 "nbformat_minor": 2
}
