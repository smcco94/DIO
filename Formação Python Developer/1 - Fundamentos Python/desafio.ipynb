{
 "cells": [
  {
   "cell_type": "markdown",
   "metadata": {},
   "source": [
    "# Desafio 1"
   ]
  },
  {
   "cell_type": "code",
   "execution_count": 2,
   "metadata": {},
   "outputs": [
    {
     "name": "stdout",
     "output_type": "stream",
     "text": [
      "TWEET\n"
     ]
    }
   ],
   "source": [
    "T = input()\n",
    "\n",
    "if len(T) <= 140:\n",
    "    print(\"TWEET\")\n",
    "else: print(\"MUTE\")"
   ]
  },
  {
   "cell_type": "markdown",
   "metadata": {},
   "source": [
    "# Desafio 2"
   ]
  },
  {
   "cell_type": "code",
   "execution_count": 6,
   "metadata": {},
   "outputs": [
    {
     "name": "stdout",
     "output_type": "stream",
     "text": [
      "January\n"
     ]
    }
   ],
   "source": [
    "month = input()\n",
    "\n",
    "months_dict = {\n",
    "    \"1\":\"January\",\n",
    "    \"2\":\"February\",\n",
    "    \"3\":\"March\",\n",
    "    \"4\":\"April\",\n",
    "    \"5\":\"May\",\n",
    "    \"6\":\"June\",\n",
    "    \"7\":\"July\",\n",
    "    \"8\":\"August\",\n",
    "    \"9\":\"September\",\n",
    "    \"10\":\"October\",\n",
    "    \"11\":\"November\",\n",
    "    \"12\":\"December\"\n",
    "}\n",
    "\n",
    "print(months_dict.get(str(month)))"
   ]
  },
  {
   "cell_type": "markdown",
   "metadata": {},
   "source": [
    "# Desafio 3"
   ]
  },
  {
   "cell_type": "code",
   "execution_count": 26,
   "metadata": {},
   "outputs": [
    {
     "name": "stdout",
     "output_type": "stream",
     "text": [
      "encaixa\n",
      "nao encaixa\n",
      "nao encaixa\n",
      "nao encaixa\n"
     ]
    }
   ],
   "source": [
    "# Funciona mas DIO nao aceita\n",
    "\n",
    "N = int(input())\n",
    "n = N\n",
    "while(n > 0):\n",
    "    valor_A = input(\"Valor A: \")\n",
    "    valor_B = input(\"Valor B: \")\n",
    "    comprimento_A = len(valor_A)\n",
    "    comprimento_B = len(valor_B)\n",
    "    if comprimento_A > comprimento_B:\n",
    "        teste_A = valor_A[comprimento_A - comprimento_B:]\n",
    "        if teste_A == valor_B:\n",
    "            print(\"encaixa\")\n",
    "        else: print(\"nao encaixa\")\n",
    "    elif comprimento_A == comprimento_B:\n",
    "        if valor_A == valor_B:\n",
    "            print(\"encaixa\")\n",
    "        else: print(\"nao encaixa\")\n",
    "    else: print(\"nao encaixa\")\n",
    "    n -= 1"
   ]
  },
  {
   "cell_type": "code",
   "execution_count": 27,
   "metadata": {},
   "outputs": [],
   "source": [
    "# Feito pelo GPT\n",
    "# Função para verificar se B é um sufixo de A\n",
    "def check_suffix(A, B):\n",
    "    return A.endswith(B)\n",
    "\n",
    "# Ler o número de casos de teste\n",
    "N = int(input())\n",
    "\n",
    "# Inicializar o contador n\n",
    "n = N\n",
    "\n",
    "# Loop para processar cada caso de teste\n",
    "while n > 0:\n",
    "    # Ler os números A e B como strings\n",
    "    A, B = input().split()\n",
    "    \n",
    "    # Verificar se B é um sufixo de A\n",
    "    if check_suffix(A, B):\n",
    "        print(\"encaixa\")\n",
    "    else:\n",
    "        print(\"nao encaixa\")\n",
    "    \n",
    "    # Decrementar o contador de casos de teste\n",
    "    n -= 1\n"
   ]
  }
 ],
 "metadata": {
  "kernelspec": {
   "display_name": "Python 3",
   "language": "python",
   "name": "python3"
  },
  "language_info": {
   "codemirror_mode": {
    "name": "ipython",
    "version": 3
   },
   "file_extension": ".py",
   "mimetype": "text/x-python",
   "name": "python",
   "nbconvert_exporter": "python",
   "pygments_lexer": "ipython3",
   "version": "3.10.11"
  },
  "orig_nbformat": 4
 },
 "nbformat": 4,
 "nbformat_minor": 2
}
