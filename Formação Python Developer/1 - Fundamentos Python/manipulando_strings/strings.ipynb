{
 "cells": [
  {
   "cell_type": "markdown",
   "metadata": {},
   "source": [
    "# Métodos úteis"
   ]
  },
  {
   "cell_type": "code",
   "execution_count": null,
   "metadata": {},
   "outputs": [],
   "source": [
    "# Maiuscula, minuscula e titulo\n",
    "curso = \"pYTHon\"\n",
    "print(curso.upper())\n",
    "print(curso.lower())\n",
    "print(curso.title())"
   ]
  },
  {
   "cell_type": "code",
   "execution_count": null,
   "metadata": {},
   "outputs": [],
   "source": [
    "# Tratando espaços em branco\n",
    "curso = \"         Python   \"\n",
    "print(curso.strip())\n",
    "print(curso.rstrip())\n",
    "print(curso.lstrip())"
   ]
  },
  {
   "cell_type": "code",
   "execution_count": 6,
   "metadata": {},
   "outputs": [
    {
     "name": "stdout",
     "output_type": "stream",
     "text": [
      "__Python__\n",
      "P.y.t.h.o.n\n",
      "Python_no_Comando\n"
     ]
    }
   ],
   "source": [
    "# Junções e centralização\n",
    "curso = \"Python\"\n",
    "lista = [\"Python\",\"no\",\"Comando\"]\n",
    "print(curso.center(10, \"_\"))\n",
    "print(\".\".join(curso))\n",
    "print(\"_\".join(lista))"
   ]
  },
  {
   "cell_type": "markdown",
   "metadata": {},
   "source": [
    "# Interpolação"
   ]
  },
  {
   "cell_type": "code",
   "execution_count": 10,
   "metadata": {},
   "outputs": [
    {
     "name": "stdout",
     "output_type": "stream",
     "text": [
      "O Marmanjo tem 18 anos é do sexo masculino e possui R$100.00 na carteira.\n"
     ]
    }
   ],
   "source": [
    "nome = \"Marmanjo\"\n",
    "idade = 18\n",
    "sexo = \"masculino\"\n",
    "dinheiro = 100\n",
    "\n",
    "print(f\"O {nome} tem {idade} anos é do sexo {sexo} e possui R${dinheiro:.2f} na carteira.\")"
   ]
  },
  {
   "cell_type": "markdown",
   "metadata": {},
   "source": [
    "# Fatiamento"
   ]
  },
  {
   "cell_type": "code",
   "execution_count": 18,
   "metadata": {},
   "outputs": [
    {
     "name": "stdout",
     "output_type": "stream",
     "text": [
      "G\n",
      "Guilherme\n",
      "Arthur de Carvalho\n",
      "Arthur\n",
      "Atu\n",
      "Guilherme Arthur de Carvalho\n",
      "ohlavraC ed ruhtrA emrehliuG\n"
     ]
    }
   ],
   "source": [
    "# [start:stop:step]\n",
    "nome = \"Guilherme Arthur de Carvalho\"\n",
    "\n",
    "print(nome[0])\n",
    "print(nome[:9])\n",
    "print(nome[10:])\n",
    "print(nome[10:16])\n",
    "print(nome[10:16:2])\n",
    "print(nome[:])\n",
    "print(nome[::-1])"
   ]
  },
  {
   "cell_type": "markdown",
   "metadata": {},
   "source": [
    "# String Multiplas Linhas"
   ]
  },
  {
   "cell_type": "code",
   "execution_count": 19,
   "metadata": {},
   "outputs": [
    {
     "name": "stdout",
     "output_type": "stream",
     "text": [
      "O Marmanjo tem 18 anos \n",
      "é do sexo masculino \n",
      "e possui R$100.00 na carteira.\n"
     ]
    }
   ],
   "source": [
    "nome = \"Marmanjo\"\n",
    "idade = 18\n",
    "sexo = \"masculino\"\n",
    "dinheiro = 100\n",
    "\n",
    "mensagem = f'''O {nome} tem {idade} anos \n",
    "é do sexo {sexo} \n",
    "e possui R${dinheiro:.2f} na carteira.'''\n",
    "\n",
    "print(mensagem)"
   ]
  }
 ],
 "metadata": {
  "kernelspec": {
   "display_name": "Python 3",
   "language": "python",
   "name": "python3"
  },
  "language_info": {
   "codemirror_mode": {
    "name": "ipython",
    "version": 3
   },
   "file_extension": ".py",
   "mimetype": "text/x-python",
   "name": "python",
   "nbconvert_exporter": "python",
   "pygments_lexer": "ipython3",
   "version": "3.10.11"
  },
  "orig_nbformat": 4
 },
 "nbformat": 4,
 "nbformat_minor": 2
}
