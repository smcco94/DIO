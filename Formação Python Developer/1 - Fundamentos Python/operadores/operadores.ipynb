{
 "cells": [
  {
   "cell_type": "markdown",
   "metadata": {},
   "source": [
    "# Operadores Atiriméticos"
   ]
  },
  {
   "cell_type": "markdown",
   "metadata": {},
   "source": [
    "### Relação de Cálculo\n",
    "- Parêntesis\n",
    "- Expoêntese\n",
    "- Multiplação e Divisão\n",
    "- Soma e subtração"
   ]
  },
  {
   "cell_type": "code",
   "execution_count": null,
   "metadata": {},
   "outputs": [],
   "source": [
    "# Divisao\n",
    "div = 12/3\n",
    "print(f'Divisão {div}')\n",
    "# Divisao Intira\n",
    "div_int = 13 // 2\n",
    "print(f'Divisão inteira {div_int}')\n",
    "# Resto\n",
    "rest = 10 % 3\n",
    "print(f'Resto {rest}')\n",
    "# Exponenciação\n",
    "exp = 2 ** 3\n",
    "print(f'Exponenciação {exp}')"
   ]
  },
  {
   "cell_type": "markdown",
   "metadata": {},
   "source": [
    "# Operadores de Atribuição"
   ]
  },
  {
   "cell_type": "code",
   "execution_count": 3,
   "metadata": {},
   "outputs": [
    {
     "name": "stdout",
     "output_type": "stream",
     "text": [
      "Saldo = 500\n"
     ]
    }
   ],
   "source": [
    "# Atribuição Simples\n",
    "saldo = 500\n",
    "print(f'Saldo = {saldo}')\n",
    "# Atribuições\n",
    "# Exponenciação -> saldo **= 2\n",
    "# divisão -> saldo /= 2\n",
    "# divisão inteira -> saldo //= 2\n",
    "# resto -> saldo %= 2\n",
    "# Multriplicação -> saldo *= 2\n",
    "# soma -> saldo += 2\n",
    "# subtração -> saldo -= 2"
   ]
  },
  {
   "cell_type": "markdown",
   "metadata": {},
   "source": [
    "# Operadores Lógicos"
   ]
  },
  {
   "cell_type": "code",
   "execution_count": 1,
   "metadata": {},
   "outputs": [],
   "source": [
    "# and\n",
    "# or\n",
    "# not (1 > 1) -> faz a comparação e entrega o inverso"
   ]
  },
  {
   "cell_type": "markdown",
   "metadata": {},
   "source": [
    "# Comparadores"
   ]
  },
  {
   "cell_type": "code",
   "execution_count": null,
   "metadata": {},
   "outputs": [],
   "source": [
    "saldo = 450\n",
    "saque = 200\n",
    "# Confere diferença\n",
    "print(saldo != saque)\n",
    "# Confere igualdade\n",
    "print(saldo == saque)\n",
    "# Maior Igual - pode ser so maior\n",
    "print(saldo >= saque)\n",
    "# Menor igual - pode ser so menor\n",
    "print(saldo <= saque)"
   ]
  },
  {
   "cell_type": "markdown",
   "metadata": {},
   "source": [
    "# Operadores de associação"
   ]
  },
  {
   "cell_type": "code",
   "execution_count": null,
   "metadata": {},
   "outputs": [],
   "source": [
    "# São operadores utilizados para verificar se um objeto está presente em uma sequência\n",
    "lista = ['python', 'cobra']\n",
    "saques = [200,150]\n",
    "print('python' in lista)\n",
    "print('maçã' in lista)\n",
    "print('maçã' not in lista)\n",
    "print(200 in saques)"
   ]
  },
  {
   "cell_type": "markdown",
   "metadata": {},
   "source": [
    "# Opreradores de identidade"
   ]
  },
  {
   "cell_type": "code",
   "execution_count": null,
   "metadata": {},
   "outputs": [],
   "source": [
    "# Opreradores de identidade servem para identificar se dois objetos ocupam a mesma posição na memoria\n",
    "curso = \"Curso\"\n",
    "nome_curso = curso\n",
    "saldo, limite = 200, 200\n",
    "print(curso is nome_curso)\n",
    "print(curso is not nome_curso)\n",
    "print(saldo is limite)"
   ]
  }
 ],
 "metadata": {
  "kernelspec": {
   "display_name": "Python 3",
   "language": "python",
   "name": "python3"
  },
  "language_info": {
   "codemirror_mode": {
    "name": "ipython",
    "version": 3
   },
   "file_extension": ".py",
   "mimetype": "text/x-python",
   "name": "python",
   "nbconvert_exporter": "python",
   "pygments_lexer": "ipython3",
   "version": "3.10.11"
  },
  "orig_nbformat": 4
 },
 "nbformat": 4,
 "nbformat_minor": 2
}
